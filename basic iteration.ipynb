{
 "cells": [
  {
   "cell_type": "code",
   "execution_count": 34,
   "metadata": {},
   "outputs": [],
   "source": [
    "import math"
   ]
  },
  {
   "cell_type": "markdown",
   "metadata": {},
   "source": [
    "<center>\n",
    "While this method is used to find the roots of linear equations, it can be implemented for non-linear systems as well.\n",
    "</center>"
   ]
  },
  {
   "cell_type": "markdown",
   "metadata": {},
   "source": [
    "<center>\n",
    "\n",
    "$f(x, y) = 0$\n",
    "\n",
    "$g(x, y) = 0$\n",
    "\n",
    "For example, in a system of equations that contain two variables, we can start by defining a new set of equations with the first variable of the first equation and the second variable from the second equation.\n",
    "\n",
    "$x_{i+1} = f_{1}(x_{i}, y_{i})$\n",
    "\n",
    "$y_{i+1} = g_{1}(x_{i}, y_{i})$\n",
    "\n",
    "</center>"
   ]
  },
  {
   "cell_type": "markdown",
   "metadata": {},
   "source": [
    "<center>\n",
    "\n",
    "for our case we are going to use the following equations\n",
    "\n",
    "$f(x) = x^{2} + y - 3 = 0$\n",
    "\n",
    "$f(y) = x + y^{2} - 5 = 0$\n",
    "\n",
    "if we re-arrange those for x and y,\n",
    "\n",
    "$x = \\sqrt{3 - y}$\n",
    "\n",
    "$y = \\sqrt{5 - x}$\n",
    "\n",
    "</center>"
   ]
  },
  {
   "cell_type": "code",
   "execution_count": 35,
   "metadata": {},
   "outputs": [],
   "source": [
    "#defining the equations\n",
    "\n",
    "def func_x(y):\n",
    "    return math.sqrt(3-y)\n",
    "\n",
    "def func_y(x):\n",
    "    return math.sqrt(5-x)"
   ]
  },
  {
   "cell_type": "code",
   "execution_count": 36,
   "metadata": {},
   "outputs": [],
   "source": [
    "x_i = 0.6     #x_initial\n",
    "y_i = 1.5    #y_initial\n",
    "n = 31      #iterations"
   ]
  },
  {
   "cell_type": "code",
   "execution_count": 37,
   "metadata": {},
   "outputs": [],
   "source": [
    "#definin the iterations\n",
    "def iterate(x_i, y_i, n):\n",
    "    x = x_i\n",
    "    y = y_i\n",
    "\n",
    "    for i in range(n):\n",
    "        x = func_x(y)\n",
    "        y = func_y(x)\n",
    "\n",
    "        print(\"iteration\", i+1, \": x=\", x, \", y =\", y)\n",
    "\n",
    "    return x, y"
   ]
  },
  {
   "cell_type": "code",
   "execution_count": 38,
   "metadata": {},
   "outputs": [
    {
     "name": "stdout",
     "output_type": "stream",
     "text": [
      "iteration 1 : x= 1.224744871391589 , y = 1.9430015770987967\n",
      "iteration 2 : x= 1.0281042860046852 , y = 1.9929615435314638\n",
      "iteration 3 : x= 1.0035130574479518 , y = 1.9991215427162121\n",
      "iteration 4 : x= 1.0004391322233392 , y = 1.99989021393092\n",
      "iteration 5 : x= 1.000054891528 , y = 1.9999862770709202\n",
      "iteration 6 : x= 1.0000068614410003 , y = 1.9999982846390143\n",
      "iteration 7 : x= 1.0000008576801251 , y = 1.9999997855799572\n",
      "iteration 8 : x= 1.0000001072100158 , y = 1.9999999731974958\n",
      "iteration 9 : x= 1.000000013401252 , y = 1.9999999966496869\n",
      "iteration 10 : x= 1.0000000016751565 , y = 1.9999999995812108\n",
      "iteration 11 : x= 1.0000000002093945 , y = 1.9999999999476514\n",
      "iteration 12 : x= 1.0000000000261742 , y = 1.9999999999934563\n",
      "iteration 13 : x= 1.0000000000032718 , y = 1.999999999999182\n",
      "iteration 14 : x= 1.000000000000409 , y = 1.9999999999998976\n",
      "iteration 15 : x= 1.000000000000051 , y = 1.9999999999999871\n",
      "iteration 16 : x= 1.0000000000000064 , y = 1.9999999999999984\n",
      "iteration 17 : x= 1.0000000000000007 , y = 1.9999999999999998\n",
      "iteration 18 : x= 1.0 , y = 2.0\n",
      "iteration 19 : x= 1.0 , y = 2.0\n",
      "iteration 20 : x= 1.0 , y = 2.0\n",
      "iteration 21 : x= 1.0 , y = 2.0\n",
      "iteration 22 : x= 1.0 , y = 2.0\n",
      "iteration 23 : x= 1.0 , y = 2.0\n",
      "iteration 24 : x= 1.0 , y = 2.0\n",
      "iteration 25 : x= 1.0 , y = 2.0\n",
      "iteration 26 : x= 1.0 , y = 2.0\n",
      "iteration 27 : x= 1.0 , y = 2.0\n",
      "iteration 28 : x= 1.0 , y = 2.0\n",
      "iteration 29 : x= 1.0 , y = 2.0\n",
      "iteration 30 : x= 1.0 , y = 2.0\n",
      "iteration 31 : x= 1.0 , y = 2.0\n",
      "\n",
      "Final result: x = 1.0 , y = 2.0\n"
     ]
    }
   ],
   "source": [
    "#implementing iterations\n",
    "final_x, final_y = iterate(x_i, y_i, n)\n",
    "\n",
    "print(\"\\nFinal result: x =\", final_x, \", y =\", final_y)"
   ]
  }
 ],
 "metadata": {
  "kernelspec": {
   "display_name": "Python 3",
   "language": "python",
   "name": "python3"
  },
  "language_info": {
   "codemirror_mode": {
    "name": "ipython",
    "version": 3
   },
   "file_extension": ".py",
   "mimetype": "text/x-python",
   "name": "python",
   "nbconvert_exporter": "python",
   "pygments_lexer": "ipython3",
   "version": "3.12.0"
  }
 },
 "nbformat": 4,
 "nbformat_minor": 2
}
