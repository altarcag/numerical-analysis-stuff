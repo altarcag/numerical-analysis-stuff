{
 "cells": [
  {
   "cell_type": "code",
   "execution_count": 1,
   "metadata": {},
   "outputs": [],
   "source": [
    "import math"
   ]
  },
  {
   "cell_type": "markdown",
   "metadata": {},
   "source": [
    "<center>\n",
    "While this method is used to find the roots of linear equations, it can be implemented for non-linear systems as well.\n",
    "</center>"
   ]
  },
  {
   "cell_type": "markdown",
   "metadata": {},
   "source": [
    "<center>\n",
    "\n",
    "$f(x, y) = 0$\n",
    "\n",
    "$g(x, y) = 0$\n",
    "\n",
    "For example, in a system of equations that contain two variables, we can start by defining a new set of equations with the first variable of the first equation and the second variable from the second equation.\n",
    "\n",
    "$x_{i+1} = f_{1}(x_{i}, y_{i})$\n",
    "\n",
    "$y_{i+1} = g_{1}(x_{i}, y_{i})$\n",
    "\n",
    "</center>"
   ]
  },
  {
   "cell_type": "markdown",
   "metadata": {},
   "source": [
    "<center>\n",
    "\n",
    "for our case we are going to use the following equations\n",
    "\n",
    "$f(x) = x^{2} + y - 3 = 0$\n",
    "\n",
    "$f(y) = x + y^{2} - 5 = 0$\n",
    "\n",
    "if we re-arrange those for x and y,\n",
    "\n",
    "$x = \\sqrt{3 - y}$\n",
    "\n",
    "$y = \\sqrt{5 - x}$\n",
    "\n",
    "</center>"
   ]
  },
  {
   "cell_type": "code",
   "execution_count": 3,
   "metadata": {},
   "outputs": [],
   "source": [
    "#defining the equations\n",
    "\n",
    "def x(y):\n",
    "    return math.sqrt(3-y)\n",
    "\n",
    "def y(x):\n",
    "    return math.sqrt(5-x)"
   ]
  },
  {
   "cell_type": "code",
   "execution_count": 7,
   "metadata": {},
   "outputs": [],
   "source": [
    "x_i = 0.6     #x_initial\n",
    "y_i = 1.4    #y_initial\n",
    "n = 1500    #iterations"
   ]
  },
  {
   "cell_type": "code",
   "execution_count": 8,
   "metadata": {},
   "outputs": [],
   "source": [
    "#definin the iterations\n",
    "def iterate(x_i, y_i, n):\n",
    "    x = x_i\n",
    "    y = y_i\n",
    "\n",
    "    for i in range(n):\n",
    "        x = x(n)\n",
    "        y = y(n)\n",
    "\n",
    "        print(\"iteration\", i+1, \": x=\", x, \", y =\", y)\n",
    "\n",
    "    return x, y"
   ]
  },
  {
   "cell_type": "code",
   "execution_count": null,
   "metadata": {},
   "outputs": [],
   "source": []
  }
 ],
 "metadata": {
  "kernelspec": {
   "display_name": "Python 3",
   "language": "python",
   "name": "python3"
  },
  "language_info": {
   "codemirror_mode": {
    "name": "ipython",
    "version": 3
   },
   "file_extension": ".py",
   "mimetype": "text/x-python",
   "name": "python",
   "nbconvert_exporter": "python",
   "pygments_lexer": "ipython3",
   "version": "3.12.0"
  }
 },
 "nbformat": 4,
 "nbformat_minor": 2
}
